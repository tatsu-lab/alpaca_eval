{
 "cells": [
  {
   "cell_type": "markdown",
   "id": "bb4f80ae-d4bf-48f0-802b-a932de6c9759",
   "metadata": {},
   "source": [
    "# Length correction of AlpacaEval\n",
    "\n",
    "This notebook is about trying to correct for the length bias in AlpacaEval. "
   ]
  },
  {
   "cell_type": "code",
   "execution_count": 1,
   "id": "77e923ce-1f87-4c6c-87f3-70c0bca767b8",
   "metadata": {},
   "outputs": [
    {
     "name": "stdout",
     "output_type": "stream",
     "text": [
      "/Users/yanndubois/Desktop/GitHub/alpaca_eval\n"
     ]
    }
   ],
   "source": [
    "cd .."
   ]
  },
  {
   "cell_type": "code",
   "execution_count": 2,
   "id": "406fc95c-073a-4952-818b-712ceac94c8f",
   "metadata": {},
   "outputs": [
    {
     "data": {
      "text/plain": [
       "True"
      ]
     },
     "execution_count": 2,
     "metadata": {},
     "output_type": "execute_result"
    }
   ],
   "source": [
    "from dotenv import load_dotenv\n",
    "load_dotenv(\".env\")"
   ]
  },
  {
   "cell_type": "markdown",
   "id": "6da3ad57-504d-4460-a489-113c0082f3cf",
   "metadata": {},
   "source": [
    "## Desiderata?\n",
    "\n",
    "Here are the things that I think we should be considering when deciding\n",
    "1. **(D1) Avoid length gameability** This is the real goal we are trying to solve with length correction. Note that this is related but different from minimizing length bias. The reason why we care about gameability instead of bias, is that humans also prefer longer outputs.\n",
    "2. **(D2) Keep high correlation with humans** see below I think we should be considering Spearman correlation with Arena.\n",
    "3. **(D3) Similar length bias as humans**: human are typically length biased, we would like\n",
    "4. **Simplicity**: the model length correction should be simple enough for people to understand what is happening and what are limitations of the length corrections. Let's not hide the limitations (and potential gameability) behind complexity.\n",
    "5. **Similar interpretation as win-rate**: given that we'll use for the default AE metric, we would like the interpretation of the result to be as similar as  possible as the non-bias corrected ones given that people are used to those. I.e. preference for having 50% for the baseline, the range being between 0-100, ...\n",
    "\n",
    "In addition to the aforementioned desired properties, we have a hard constraint that there should be **no reevaluation needed**. I.e., the new metric should be a function of what we currently have to ensure that we can port the leaderboard.\n",
    "\n",
    "Now let's check how to decide whether a method is better or worse, i.e., what metrics to consider for the rest of the notebook.\n",
    "\n",
    "## Metrics?\n",
    "Here are the metrics I think we should be considering, one for each of the three desiderata.\n",
    "\n",
    "- **(D1) Small relative variance when prompting for verbosity/conciseness.** One heuristic to avoid gameability is to ensure that the win-rate for a model is close to the win-rate of the same model prompted for verbosity. To test that we will use a few models and prompt them (1) normally, (2) to \"give as much detail as possible\", (3) to \"be as concise as possible while still providing all the necessary information to answer the question\". Then we will look at the variance between those three, which ideally shouldn't be too large. We will use GPT4-turbo, Claude 2, GPT3-turbo, GPT4, Mixtral. In particular, we will consider the relative standard deviation. Standard deviation, simply because it's easier to interpret. Relative in the sense that we (1) normalize by the non-gamed win rate, and (2) we normalize by the standard deviation of different models, i.e., squishing the range of the metric shouldn't solve the gameability issue.\n",
    "\n",
    "- **(D2) High Spearman correlation with Chatbot Arena Leaderboard.** This is the most important, and see below why I think we should be using Chatbot Arena Leaderboard here. The question then becomes which correlations. Given that ELO and win rate are very different metrics (e.g. one is bounded and not the other) there's no reason to hope that linear correlation holds, so we shouldn't use Pearson. More importantly, we only care about relative values with a benchmark like AlpacaEval (the usecase being model selection) so non-parametric correlation is better suited. Note that the choice of Spearman vs Kendall doesn't matter much here, we will use Spearman because it's on \"the same scale\" as Pearson correlation which people are more used to (e.g. Dendall is much smaller which always surprises people because they are not used to interpreting it). Also note that when using non-parametric correlations it's extremely important to fix the number of points you are comparing, otherwise more always looks better. \n",
    "  \n",
    "- **(D3) Same Spearman correlation AE-Length as Arena-Length.** To track the length bias of humans we can see how correlated the Arena leaderboard is with a leaderboard that simply ranks outputs by their lengths. Again we use Spearman correlations.\n",
    "\n",
    "## Human Data?\n",
    "\n",
    "There are two sources of human data that we use for evaluation of the method:\n",
    "- **AlpacaFarm cross-annotation data**: this is 650 samples cross-annotated by 4 humans (2.5K annotations) on the AlpacaEval instructions. The benefits and downsides are that:\n",
    "    - (+) we have *cross-annotations* so we can remove noise in the process\n",
    "    - (+) the *humans were paid* to do the best possible evaluation job and checked for their quality => less noise\n",
    "    - (+) the instructions are a *subset of the AlpacaEval instructions* => instructions are in distribution\n",
    "    - (+) the evaluation is performed in the same way as AlpacaEval (win rate) \n",
    "    - (-) the models evaluated are *old* => outputs are out of distribution (especially length)\n",
    "    - (-) humans were paid => ~optimizing for money => likely more biased (e.g. to perform the task quickly)\n",
    "    - (-) instructions are less realistic\n",
    "    - (-) fewer models to compute correlations with\n",
    "\n",
    "- **Chatbot Arena Leaderboard** this is >250K pairwise comparisons evaluated by humans on instructions that they came up with. There are more than 50 models and currently (7th feb 2024) 24 of those models that are evaluated in AlpacaEval2.0. Shoutout to [Balázs Galambosi](https://github.com/gblazex) who's been adding models from the Arena to AlpacaEval. The benefits and downsides are essentially the opposite as above, here are some to highlight\n",
    "    - (+) in the wild human interactions => more realistic instructions and potentially less bias for preferences\n",
    "    - (+) more recent models => in distribution ouputs (esepecially length)\n",
    "    - (+) more models to compute the correlation with & more data\n",
    "    - (-) instructions and the metric (Elo) is different => more out of distribution\n",
    "\n",
    "Overall **correlations with Arena leaderboard are better for length bias** because:\n",
    "1. Outputs of new models are much longer than from the old models => AlpacaFarm human data is not great for \n",
    "2. I think that optimizing for speed & money likely increases the bias toward length\n",
    "\n",
    "So I don't think AlpacaFarm human data is great for studying length bias. I will still keep track of it but we should focus on correlation with Arena.\n",
    "\n",
    "\n",
    "\n"
   ]
  },
  {
   "cell_type": "markdown",
   "id": "35f21ede-eef2-4cd1-a5cd-c0e76be7d143",
   "metadata": {},
   "source": [
    "## Setting up "
   ]
  },
  {
   "cell_type": "code",
   "execution_count": 5,
   "id": "cc4760f6-fd06-4d2c-bced-f0bc0f63c4e5",
   "metadata": {},
   "outputs": [
    {
     "name": "stderr",
     "output_type": "stream",
     "text": [
      "/Users/yanndubois/opt/anaconda3/envs/alpaca_eval/lib/python3.11/site-packages/tqdm/auto.py:21: TqdmWarning: IProgress not found. Please update jupyter and ipywidgets. See https://ipywidgets.readthedocs.io/en/stable/user_install.html\n",
      "  from .autonotebook import tqdm as notebook_tqdm\n"
     ]
    }
   ],
   "source": [
    "from alpaca_eval import utils, metrics, annotators, constants, analyze, plotting, main\n",
    "import pandas as pd\n",
    "from IPython.display import display\n",
    "import scipy.stats\n",
    "import numpy as np\n",
    "BASELINE = \"gpt4_1106_preview\""
   ]
  },
  {
   "cell_type": "code",
   "execution_count": 6,
   "id": "953043d0-d527-4717-bd89-0971b1d39211",
   "metadata": {},
   "outputs": [
    {
     "name": "stdout",
     "output_type": "stream",
     "text": [
      "We are comparing to 32 Arena models\n"
     ]
    }
   ],
   "source": [
    "lb = pd.read_csv(\"src/alpaca_eval/leaderboards/data_AlpacaEval_2/weighted_alpaca_eval_gpt4_turbo_leaderboard.csv\", index_col=0)\n",
    "\n",
    "def make_lb_arena(lb):\n",
    "    lb_arena = lb.loc[list(constants.CHATBOT_ARENA_LEADERBOARD.keys()),:]\n",
    "    lb_arena[\"ELO\"] = constants.CHATBOT_ARENA_LEADERBOARD.values()\n",
    "    return lb_arena\n",
    "\n",
    "lb_arena = make_lb_arena(lb)\n",
    "print(f\"We are comparing to {len(lb_arena)} Arena models\")"
   ]
  },
  {
   "cell_type": "code",
   "execution_count": 7,
   "id": "7cb37f4f-7636-4dd2-9230-9a3b39cf2f3c",
   "metadata": {},
   "outputs": [],
   "source": [
    "game_process_v = lambda s : s.replace(\"_verbose\",\"\")\n",
    "game_process_c = lambda s : s.replace(\"_concise\",\"\")\n",
    "gamed_models = [i for i in lb.index\n",
    "               if (i + \"_verbose\") in lb.index and (i + \"_concise\") in lb.index]\n",
    "diff_models = [i for i in lb.index\n",
    "               if \"_verbose\" not in i and i + \"_concise\" not in i]\n",
    "lb[\"gamed_verbose_only\"] = [game_process_v(i) if game_process_v(i) in gamed_models else None for i in lb.index]\n",
    "lb[\"gamed_concise_only\"] = [game_process_c(i) if game_process_c(i) in gamed_models else None for i in lb.index]"
   ]
  },
  {
   "cell_type": "markdown",
   "id": "694e353f-6edc-480c-9be1-d8c07ce3c110",
   "metadata": {},
   "source": [
    "Here are the models that we gamed (i.e. prompted for verbosity/conciseness)"
   ]
  },
  {
   "cell_type": "code",
   "execution_count": 8,
   "id": "1b341e73-e391-416c-96af-7d6f50612c5b",
   "metadata": {},
   "outputs": [
    {
     "data": {
      "text/plain": [
       "['gpt4_1106_preview',\n",
       " 'Mixtral-8x7B-Instruct-v0.1',\n",
       " 'gpt4_0613',\n",
       " 'claude-2.1',\n",
       " 'gpt-3.5-turbo-1106',\n",
       " 'alpaca-7b']"
      ]
     },
     "execution_count": 8,
     "metadata": {},
     "output_type": "execute_result"
    }
   ],
   "source": [
    "gamed_models"
   ]
  },
  {
   "cell_type": "code",
   "execution_count": 18,
   "id": "e99ccfe5-4e0f-406a-9d2d-62599c9e3294",
   "metadata": {},
   "outputs": [],
   "source": [
    "\n",
    "def report(lb, metric, is_detailed=False, n_toshow=10, is_return_metrics=False):\n",
    "    lb_arena = make_lb_arena(lb)\n",
    "\n",
    "    if not is_return_metrics:\n",
    "        print(f\"# Report for **{metric}**\")\n",
    "\n",
    "        print()\n",
    "        print(\"## Gameability (lower is better)\")\n",
    "\n",
    "    df_gamed_v = lb.groupby(\"gamed_verbose_only\")[[\"avg_length\", metric]].agg([\"mean\",\"std\"]) \n",
    "    df_gamed_c = lb.groupby(\"gamed_concise_only\")[[\"avg_length\", metric]].agg([\"mean\",\"std\"]) \n",
    "    # relative in the sense that models with larger metric shouldn't be considered as having larger vairance\n",
    "    df_gamed_v[(metric, 'rel_std')] = df_gamed_v[metric][\"std\"] /  df_gamed_v[metric][\"mean\"]\n",
    "    df_gamed_c[(metric, 'rel_std')] = df_gamed_c[metric][\"std\"] /  df_gamed_c[metric][\"mean\"] \n",
    "    # renormalize to avoid removing gameability by shrinking the scale of the metric\n",
    "    winrate_std_across_models = lb[lb.index.isin(diff_models)][\"win_rate\"].std()\n",
    "    metric_std_across_models = lb[lb.index.isin(diff_models)][metric].std()\n",
    "    metric_weight = winrate_std_across_models / metric_std_across_models \n",
    "    \n",
    "    if is_detailed:\n",
    "        print(f\"metric_weight: {metric_weight:.3f}\")\n",
    "        display(df_gamed_v)\n",
    "        display(df_gamed_c)\n",
    "\n",
    "    verbosity_gameability = df_gamed_v[metric]['rel_std'].mean() * metric_weight * 100\n",
    "    conciseness_gameability = df_gamed_c[metric]['rel_std'].mean() * metric_weight * 100\n",
    "    \n",
    "    if not is_return_metrics:\n",
    "        print(f\"Verbosity gameability (relative std metric): {verbosity_gameability:.1f}%\")\n",
    "        print(f\"Conciseness gameability (relative std metric): {conciseness_gameability:.1f}%\")\n",
    "\n",
    "        print()\n",
    "        print(\"## Correlation with Arena (higher is better)\")\n",
    "\n",
    "    corr_arena = print_correlations(lb_arena[metric], lb_arena[\"ELO\"], is_return_metrics=is_return_metrics)\n",
    "\n",
    "    if not is_return_metrics:\n",
    "        print()\n",
    "        arena_corr = print_correlations(lb_arena[\"ELO\"],\n",
    "                                       lb_arena[\"avg_length\"],\n",
    "                                        \"Arena vs Length\", \n",
    "                                        is_return_metrics=True)\n",
    "        print(f\"## Correlation with length (closer to spearman={arena_corr['spearman']:.2f}, kendall={arena_corr['kendall']:.2f} is better)\")\n",
    "    \n",
    "    corr_len = print_correlations(lb_arena[metric], lb_arena[\"avg_length\"], is_return_metrics=is_return_metrics)\n",
    "\n",
    "    if not is_return_metrics:\n",
    "        print()\n",
    "        print(f\"## Top {n_toshow} models\")\n",
    "    \n",
    "        display(lb[metric].sort_values(ascending=False)[:n_toshow])\n",
    "    \n",
    "        print()\n",
    "        print(f\"## Bottom {n_toshow} models\")\n",
    "    \n",
    "        display(lb[metric].sort_values(ascending=False)[-n_toshow:])\n",
    "\n",
    "    if is_return_metrics:\n",
    "        return dict(verbosity_gameability=verbosity_gameability, \n",
    "                    conciseness_gameability=conciseness_gameability,\n",
    "                   corr_arena=corr_arena[\"spearman\"],\n",
    "                    corr_len=corr_len[\"spearman\"])\n",
    "\n",
    "    "
   ]
  },
  {
   "cell_type": "code",
   "execution_count": 19,
   "id": "fd617806-9a08-45f4-9dd6-6ef64703e2b3",
   "metadata": {},
   "outputs": [],
   "source": [
    "\n",
    "def print_correlations(arr1, arr2, txt=\"\", is_return_metrics=False):\n",
    "    if isinstance(arr1, pd.DataFrame):\n",
    "        arr1 = list(arr1.index)\n",
    "    if isinstance(arr2, pd.DataFrame):\n",
    "        arr2 = list(arr2.index)\n",
    "    s = scipy.stats.spearmanr(arr1, arr2).statistic\n",
    "    t = scipy.stats.kendalltau(arr1, arr2).statistic\n",
    "    \n",
    "    if is_return_metrics:\n",
    "        return dict(spearman=s, kendall=t)\n",
    "    else:\n",
    "        if txt != \"\":\n",
    "            txt = txt + \"\\n\"\n",
    "        print(f\"{txt}Spearman Corr: {s:.3f}\\nKendall Corr: {t:.3f}\")"
   ]
  },
  {
   "cell_type": "markdown",
   "id": "684ddf6f-d338-4703-a89a-a24686922f03",
   "metadata": {},
   "source": [
    "Here are the correlations between Arena and length that we should try to be close to. "
   ]
  },
  {
   "cell_type": "code",
   "execution_count": 20,
   "id": "bf2dee0d-b579-4b91-a55c-503c6e1192e2",
   "metadata": {},
   "outputs": [
    {
     "name": "stdout",
     "output_type": "stream",
     "text": [
      "Arena vs Length\n",
      "Spearman Corr: 0.240\n",
      "Kendall Corr: 0.168\n"
     ]
    }
   ],
   "source": [
    "print_correlations(lb_arena[\"ELO\"],\n",
    "                   lb_arena[\"avg_length\"],\n",
    "                  \"Arena vs Length\")"
   ]
  },
  {
   "cell_type": "markdown",
   "id": "c821ff4c-1e7b-4970-ac5d-028b5945d5c0",
   "metadata": {},
   "source": [
    "## Raw win rate"
   ]
  },
  {
   "cell_type": "markdown",
   "id": "886c03e2-ef7c-4588-baef-028c8b96280e",
   "metadata": {},
   "source": [
    "- **What**: compute the expected number of times that the model is better than the baseline. This is the default in AE.\n",
    "- **Benefits**: simple \n",
    "- **Downside**: length bias"
   ]
  },
  {
   "cell_type": "code",
   "execution_count": 21,
   "id": "c6f772b9-8ee7-470c-a9ac-4027fbf978d5",
   "metadata": {},
   "outputs": [
    {
     "name": "stdout",
     "output_type": "stream",
     "text": [
      "# Report for **win_rate**\n",
      "\n",
      "## Gameability (lower is better)\n",
      "Verbosity gameability (relative std metric): 21.3%\n",
      "Conciseness gameability (relative std metric): 29.8%\n",
      "\n",
      "## Correlation with Arena (higher is better)\n",
      "Spearman Corr: 0.933\n",
      "Kendall Corr: 0.808\n",
      "\n",
      "## Correlation with length (closer to spearman=0.24, kendall=0.17 is better)\n",
      "Spearman Corr: 0.457\n",
      "Kendall Corr: 0.313\n",
      "\n",
      "## Top 10 models\n"
     ]
    },
    {
     "data": {
      "text/plain": [
       "gpt4_1106_preview_verbose                64.303601\n",
       "gpt4_1106_preview                        50.000000\n",
       "Snorkel-Mistral-PairRM-DPO-best-of-16    34.860133\n",
       "pairrm-Yi-34B-Chat                       31.241283\n",
       "Snorkel-Mistral-PairRM-DPO               30.220053\n",
       "Yi-34B-Chat                              29.659947\n",
       "Qwen1.5-72B-Chat                         26.498283\n",
       "Mixtral-8x7B-Instruct-v0.1_verbose       24.614063\n",
       "claude-2.1_verbose                       24.354071\n",
       "gpt4                                     23.576789\n",
       "Name: win_rate, dtype: float64"
      ]
     },
     "metadata": {},
     "output_type": "display_data"
    },
    {
     "name": "stdout",
     "output_type": "stream",
     "text": [
      "\n",
      "## Bottom 10 models\n"
     ]
    },
    {
     "data": {
      "text/plain": [
       "guanaco-7b              2.880002\n",
       "chatglm2-6b             2.762185\n",
       "text_davinci_001        2.757166\n",
       "alpaca-7b               2.591451\n",
       "pythia-12b-mix-sft      2.578090\n",
       "phi-2                   2.344452\n",
       "falcon-7b-instruct      2.146618\n",
       "baichuan-13b-chat       1.992146\n",
       "alpaca-7b_concise       1.988703\n",
       "oasst-sft-pythia-12b    1.790114\n",
       "Name: win_rate, dtype: float64"
      ]
     },
     "metadata": {},
     "output_type": "display_data"
    }
   ],
   "source": [
    "report(lb, \"win_rate\", is_detailed=False)"
   ]
  },
  {
   "cell_type": "markdown",
   "id": "3f98342d-ccc8-47b5-953f-6231954dc601",
   "metadata": {},
   "source": [
    "We see that:\n",
    "- gameability due to asking for details is high\n",
    "- correlation with Arena is relatively high\n",
    "- correlation with length is >2x than Arena"
   ]
  },
  {
   "cell_type": "markdown",
   "id": "f60c2a32-f55b-4ec9-aa04-7273e2fa79c1",
   "metadata": {},
   "source": [
    "# Proposed metrics to consider\n",
    "\n",
    "First, let's compute some values---based on annotations---that will be useful for all the proposed metrics. Note throughout the rest that 1 -> baseline, and 2 -> model being evaluated."
   ]
  },
  {
   "cell_type": "code",
   "execution_count": 22,
   "id": "89c9ffc7-430a-4e78-9f95-aa7e4f03593b",
   "metadata": {},
   "outputs": [],
   "source": [
    "def load_annotations(lb):\n",
    "    \"\"\"Load annotations from models in lb and add some statistics that may be useful.\"\"\"\n",
    "    annotations = {}\n",
    "        \n",
    "    for i in lb.index:\n",
    "        # load actual annotations to see if it was longer or not \n",
    "        df_annotations = pd.read_json(f\"results/{i}/weighted_alpaca_eval_gpt4_turbo/annotations.json\")\n",
    "        df_annotations[\"len_1\"] = df_annotations[\"output_1\"].str.len()  \n",
    "        df_annotations[\"len_2\"] = df_annotations[\"output_2\"].str.len()  \n",
    "        df_annotations[\"is_longer2\"] = df_annotations[\"len_1\"] < df_annotations[\"len_2\"]     \n",
    "        df_annotations[\"is_longer1\"] = df_annotations[\"len_2\"] < df_annotations[\"len_1\"] \n",
    "        df_annotations[\"is_same_length\"] = df_annotations[\"len_2\"] == df_annotations[\"len_1\"] \n",
    "        df_annotations[\"model\"] = i\n",
    "        annotations[i] = df_annotations.reset_index().drop(columns=[\"raw_completion\", \"output_2\", \"output_1\", \"instruction\"]) # drop all the long stuff that is not needed\n",
    "\n",
    "    df_annotations = pd.concat(annotations, ignore_index=True)\n",
    "    df_annotations[\"preference\"] = (df_annotations[\"preference\"].astype(float).replace({0.0: 1.5}) - 1) # easier to work with\n",
    "    return df_annotations"
   ]
  },
  {
   "cell_type": "code",
   "execution_count": 23,
   "id": "21f7f9ac-59bd-46ef-8f46-e4c1192dd925",
   "metadata": {},
   "outputs": [],
   "source": [
    "all_df_annotations = load_annotations(lb)"
   ]
  },
  {
   "cell_type": "markdown",
   "id": "7b3e3dc6-811b-4ee8-9dd7-6bb50908ea06",
   "metadata": {},
   "source": [
    "## Balanced win rate"
   ]
  },
  {
   "cell_type": "markdown",
   "id": "7f9e26e1-ae68-4cc4-b188-987f2de43263",
   "metadata": {},
   "source": [
    "- **What**: compute the expected number of times that the model is better than the baseline when the outputs of the model are (1) longer, and (2) shorter than the baseline. Then take the average between both settings.\n",
    "- **Benefits**:\n",
    "    - simple\n",
    "    - control for length\n",
    "    - similar interpretation as win-rate\n",
    "    - much better in all metrics than raw win-rate\n",
    "- **Downside**:\n",
    "    - high variance / gameable if models have only a few outputs in one of the two categories. E.g. everything is shorter than baseline => should not allow evla of such model.\n",
    "    - there might be a cofounder between the complexity of the task and which outputs are longer."
   ]
  },
  {
   "cell_type": "code",
   "execution_count": 24,
   "id": "992e25da-c3d0-4fcd-ba56-07f2d2e3cc9b",
   "metadata": {},
   "outputs": [],
   "source": [
    "def add_metrics_for_longer_balancing(lb, all_df_annotations):\n",
    "    \"\"\"Computes the mean and variance fo win rate grouped by whether the model is longer/shorter than the baseline\"\"\"\n",
    "    lb = lb.copy()\n",
    "    keys = [\"mean_1longer\", \"mean_2longer\", \"var_1longer\", \"var_2longer\", \"count_2longer\", \"count_2longer\",\n",
    "           \n",
    "           ]\n",
    "    annotations = {}\n",
    "    for k in keys:\n",
    "        lb[k] = None\n",
    "        \n",
    "    for i in lb.index:\n",
    "        # load actual annotations to see if it was longer or not \n",
    "        df_annotations = all_df_annotations[all_df_annotations.model == i]\n",
    "\n",
    "        groupby_islonger1 = df_annotations.groupby(\"is_longer1\")[\"preference\"].agg([\"mean\", \"var\"])\n",
    "        groupby_islonger2 = df_annotations.groupby(\"is_longer2\")[\"preference\"].agg([\"mean\", \"var\"])\n",
    "        is_same_length = df_annotations[\"is_same_length\"].sum()        \n",
    "\n",
    "        # uses islonger1/2 instead of true false to deal with same lengths\n",
    "        try:\n",
    "            lb.loc[i, \"mean_1longer\"] = groupby_islonger1.loc[True, \"mean\"]\n",
    "            lb.loc[i, \"mean_2longer\"] = groupby_islonger2.loc[True, \"mean\"]\n",
    "            lb.loc[i, \"var_1longer\"] = groupby_islonger1.loc[True, \"var\"]\n",
    "            lb.loc[i, \"var_2longer\"] = groupby_islonger2.loc[True, \"var\"]\n",
    "            \n",
    "        except: # case where all is shorter or longer or same\n",
    "            lb.loc[i, \"mean_1longer\"] = lb.loc[i, \"mean_2longer\"] = df_annotations[\"preference\"].mean()\n",
    "            lb.loc[i, \"var_1longer\"] = lb.loc[i, \"var_2longer\"] = df_annotations[\"preference\"].var()\n",
    "        \n",
    "        lb.loc[i, \"count_1longer\"] = df_annotations[\"is_longer1\"].sum() + is_same_length/2\n",
    "        lb.loc[i, \"count_2longer\"] = df_annotations[\"is_longer2\"].sum() + is_same_length/2\n",
    "            \n",
    "\n",
    "    return lb\n",
    "        "
   ]
  },
  {
   "cell_type": "code",
   "execution_count": 25,
   "id": "9a5190e3-bead-48e0-b8b0-ae53f0218459",
   "metadata": {},
   "outputs": [
    {
     "name": "stdout",
     "output_type": "stream",
     "text": [
      "# Report for **balanced_win_rate**\n",
      "\n",
      "## Gameability (lower is better)\n",
      "Verbosity gameability (relative std metric): 12.5%\n",
      "Conciseness gameability (relative std metric): 19.0%\n",
      "\n",
      "## Correlation with Arena (higher is better)\n",
      "Spearman Corr: 0.938\n",
      "Kendall Corr: 0.808\n",
      "\n",
      "## Correlation with length (closer to spearman=0.24, kendall=0.17 is better)\n",
      "Spearman Corr: 0.132\n",
      "Kendall Corr: 0.095\n",
      "\n",
      "## Top 10 models\n"
     ]
    },
    {
     "data": {
      "text/plain": [
       "gpt4_1106_preview_verbose                55.464179\n",
       "gpt4_1106_preview                             50.0\n",
       "gpt4_1106_preview_concise                42.476316\n",
       "Qwen1.5-72B-Chat                         37.072419\n",
       "gpt4                                     36.503486\n",
       "gpt4_0613_verbose                        32.752569\n",
       "Snorkel-Mistral-PairRM-DPO-best-of-16     31.50451\n",
       "claude                                   31.090175\n",
       "gpt4_0314                                30.972772\n",
       "mistral-medium                           30.845477\n",
       "Name: balanced_win_rate, dtype: object"
      ]
     },
     "metadata": {},
     "output_type": "display_data"
    },
    {
     "name": "stdout",
     "output_type": "stream",
     "text": [
      "\n",
      "## Bottom 10 models\n"
     ]
    },
    {
     "data": {
      "text/plain": [
       "llama-2-7b-chat-hf      6.711881\n",
       "alpaca-7b_concise       6.672493\n",
       "baize-v2-7b             5.322234\n",
       "guanaco-7b              4.644985\n",
       "chatglm2-6b             4.570916\n",
       "guanaco-13b             4.103434\n",
       "pythia-12b-mix-sft      3.344637\n",
       "phi-2                   3.102639\n",
       "baichuan-13b-chat       2.464749\n",
       "oasst-sft-pythia-12b    2.274166\n",
       "Name: balanced_win_rate, dtype: object"
      ]
     },
     "metadata": {},
     "output_type": "display_data"
    }
   ],
   "source": [
    "lb_longer = add_metrics_for_longer_balancing(lb, all_df_annotations)\n",
    "lb_longer[\"balanced_win_rate\"] = ((lb_longer[\"mean_1longer\"] + lb_longer[\"mean_2longer\"])/2)*100\n",
    "report(lb_longer, \"balanced_win_rate\", is_detailed=False)"
   ]
  },
  {
   "cell_type": "markdown",
   "id": "d7485108-8060-4ae9-8f20-ce79a4082f66",
   "metadata": {},
   "source": [
    "We see that gameability reduced by ~1.5-2x, correlation with Arena increased, and correlation with length is now essentially 0. Overall, this seems like a net gain. \n",
    "\n",
    "Note that the correlation with the length leaderboard is much smaller than humans, suggesting that we might have overcorrected. "
   ]
  },
  {
   "cell_type": "markdown",
   "id": "ab3f7d4e-e59c-4fb1-8e12-bc595d0c54e9",
   "metadata": {},
   "source": [
    "## Average length corrected win-rate"
   ]
  },
  {
   "cell_type": "markdown",
   "id": "e39d33b8-af2e-4dc8-bb07-cc8117c958a8",
   "metadata": {},
   "source": [
    "- **What**: Normalize the win-rate by the average length of outputs. We then multiply by the average win-rate of the baseline to leave it at 50%.\n",
    "- **Benefits**:\n",
    "    - simple\n",
    "    - control for length\n",
    "      much better in all metrics than raw win-rate\n",
    "- **Downside**:\n",
    "    - different (harder) interpretation: the range is not between 0-100 anymore and depends on the length of outputs."
   ]
  },
  {
   "cell_type": "code",
   "execution_count": 26,
   "id": "25eb7dd6-4d01-4c57-b6f4-959fe3b90b5a",
   "metadata": {},
   "outputs": [
    {
     "name": "stdout",
     "output_type": "stream",
     "text": [
      "# Report for **avg_length_corrected_win_rate**\n",
      "\n",
      "## Gameability (lower is better)\n",
      "Verbosity gameability (relative std metric): 7.1%\n",
      "Conciseness gameability (relative std metric): 11.5%\n",
      "\n",
      "## Correlation with Arena (higher is better)\n",
      "Spearman Corr: 0.949\n",
      "Kendall Corr: 0.812\n",
      "\n",
      "## Correlation with length (closer to spearman=0.24, kendall=0.17 is better)\n",
      "Spearman Corr: 0.113\n",
      "Kendall Corr: 0.059\n",
      "\n",
      "## Top 10 models\n"
     ]
    },
    {
     "data": {
      "text/plain": [
       "gpt4_1106_preview_verbose     54.853489\n",
       "gpt4_1106_preview             50.000000\n",
       "gpt4_1106_preview_concise     41.341090\n",
       "gpt4                          35.391093\n",
       "claude-2.1_verbose            35.291012\n",
       "gpt-3.5-turbo-1106_concise    35.255469\n",
       "Qwen1.5-72B-Chat              35.051635\n",
       "claude-2.1_concise            32.995427\n",
       "gpt4_0314                     32.989138\n",
       "claude-2                      32.945467\n",
       "Name: avg_length_corrected_win_rate, dtype: float64"
      ]
     },
     "metadata": {},
     "output_type": "display_data"
    },
    {
     "name": "stdout",
     "output_type": "stream",
     "text": [
      "\n",
      "## Bottom 10 models\n"
     ]
    },
    {
     "data": {
      "text/plain": [
       "minichat-3b               7.098677\n",
       "llama-2-7b-chat-hf        6.873418\n",
       "openbuddy-falcon-7b-v6    6.262922\n",
       "baize-v2-7b               6.190298\n",
       "pythia-12b-mix-sft        5.785878\n",
       "chatglm2-6b               5.510922\n",
       "oasst-sft-pythia-12b      5.052264\n",
       "guanaco-7b                4.326338\n",
       "guanaco-13b               4.007443\n",
       "baichuan-13b-chat         2.363582\n",
       "Name: avg_length_corrected_win_rate, dtype: float64"
      ]
     },
     "metadata": {},
     "output_type": "display_data"
    }
   ],
   "source": [
    "lb[\"avg_length_corrected_win_rate\"] = lb[\"win_rate\"] / lb[\"avg_length\"] * lb.loc[BASELINE, \"avg_length\"]\n",
    "report(lb, \"avg_length_corrected_win_rate\", is_detailed=False)"
   ]
  },
  {
   "cell_type": "markdown",
   "id": "8a636afc-9c5d-4ee3-8234-0a404e1dbb10",
   "metadata": {},
   "source": [
    "We see that gameability is even lower than with the balanced win rate. While the length correlation and Arena correlations are similar. My biggest issue with this metric is that I find it much less interpretable and I'm worried that the relation is far from linear when you move to much shorter & longer outputs, but it's hard to know when not to trust this metric. Furthermore, as we'll see below if we correct per sample rather than in average the correlations are much worst, which makes me pretty worried!"
   ]
  },
  {
   "cell_type": "markdown",
   "id": "c1891bc6-3c29-494b-9044-43ed57c3070f",
   "metadata": {},
   "source": [
    "## Weighted win-rate\n",
    "\n",
    "- **What**: weight each example differently depending on whether or not the baseline is longer. Note that a weight of 0.5 recovers the standard win-rate. This is similar to the balanced win rate but the weight of each category depends on the amount of examples in that category. \n",
    "- **Benefits**:\n",
    "    - control for length\n",
    "    - similar to balanced win rate, but meaningful even if one category is empty.\n",
    "- **Downside**:\n",
    "    - no good intuition for which weight to choose => hyperparameter tuning => validation set dependent\n",
    "    - more complex\n",
    "    - metrics are only slightly better than raw win-rate"
   ]
  },
  {
   "cell_type": "code",
   "execution_count": 27,
   "id": "e1b2cf13-bc6c-4dbb-bd3a-84128f90ba6f",
   "metadata": {},
   "outputs": [],
   "source": [
    "import seaborn as sns\n",
    "\n",
    "def plot_metrics_vs_param(get_new_win_rate, parameters, metric_name):\n",
    "    verbosity_gameability = []\n",
    "    conciseness_gameability = []\n",
    "    corr_arena = []\n",
    "    corr_len = []\n",
    "    \n",
    "    for parameter in parameters:\n",
    "        lb_longer[metric_name] = get_new_win_rate(lb_longer, parameter)\n",
    "        metrics = report(lb_longer, metric_name, is_detailed=False, is_return_metrics=True)\n",
    "        verbosity_gameability.append(metrics[\"verbosity_gameability\"])\n",
    "        conciseness_gameability.append(metrics[\"conciseness_gameability\"])\n",
    "        corr_arena.append(metrics[\"corr_arena\"])\n",
    "        corr_len.append(metrics[\"corr_len\"])\n",
    "\n",
    "    metrics_w = pd.DataFrame(dict(parameter=parameters, verbosity_gameability=verbosity_gameability, conciseness_gameability=conciseness_gameability, corr_arena=corr_arena, corr_len=corr_len))\n",
    "    to_plot = metrics_w.melt(value_name=\"value\", var_name=\"metric\", value_vars=metrics.keys(), id_vars=\"parameter\")\n",
    "    sns.relplot(to_plot, x='parameter', y='value', col='metric', kind=\"line\", facet_kws=dict(sharey=False))"
   ]
  },
  {
   "cell_type": "code",
   "execution_count": 28,
   "id": "7ceb3d1e-99ff-438c-9572-84057ba1f821",
   "metadata": {},
   "outputs": [
    {
     "name": "stderr",
     "output_type": "stream",
     "text": [
      "/Users/yanndubois/opt/anaconda3/envs/alpaca_eval/lib/python3.11/site-packages/seaborn/_oldcore.py:1119: FutureWarning: use_inf_as_na option is deprecated and will be removed in a future version. Convert inf values to NaN before operating instead.\n",
      "  with pd.option_context('mode.use_inf_as_na', True):\n",
      "/Users/yanndubois/opt/anaconda3/envs/alpaca_eval/lib/python3.11/site-packages/seaborn/_oldcore.py:1119: FutureWarning: use_inf_as_na option is deprecated and will be removed in a future version. Convert inf values to NaN before operating instead.\n",
      "  with pd.option_context('mode.use_inf_as_na', True):\n",
      "/Users/yanndubois/opt/anaconda3/envs/alpaca_eval/lib/python3.11/site-packages/seaborn/_oldcore.py:1119: FutureWarning: use_inf_as_na option is deprecated and will be removed in a future version. Convert inf values to NaN before operating instead.\n",
      "  with pd.option_context('mode.use_inf_as_na', True):\n",
      "/Users/yanndubois/opt/anaconda3/envs/alpaca_eval/lib/python3.11/site-packages/seaborn/_oldcore.py:1119: FutureWarning: use_inf_as_na option is deprecated and will be removed in a future version. Convert inf values to NaN before operating instead.\n",
      "  with pd.option_context('mode.use_inf_as_na', True):\n",
      "/Users/yanndubois/opt/anaconda3/envs/alpaca_eval/lib/python3.11/site-packages/seaborn/_oldcore.py:1119: FutureWarning: use_inf_as_na option is deprecated and will be removed in a future version. Convert inf values to NaN before operating instead.\n",
      "  with pd.option_context('mode.use_inf_as_na', True):\n",
      "/Users/yanndubois/opt/anaconda3/envs/alpaca_eval/lib/python3.11/site-packages/seaborn/_oldcore.py:1119: FutureWarning: use_inf_as_na option is deprecated and will be removed in a future version. Convert inf values to NaN before operating instead.\n",
      "  with pd.option_context('mode.use_inf_as_na', True):\n",
      "/Users/yanndubois/opt/anaconda3/envs/alpaca_eval/lib/python3.11/site-packages/seaborn/_oldcore.py:1119: FutureWarning: use_inf_as_na option is deprecated and will be removed in a future version. Convert inf values to NaN before operating instead.\n",
      "  with pd.option_context('mode.use_inf_as_na', True):\n",
      "/Users/yanndubois/opt/anaconda3/envs/alpaca_eval/lib/python3.11/site-packages/seaborn/_oldcore.py:1119: FutureWarning: use_inf_as_na option is deprecated and will be removed in a future version. Convert inf values to NaN before operating instead.\n",
      "  with pd.option_context('mode.use_inf_as_na', True):\n"
     ]
    },
    {
     "data": {
      "image/png": "[encoded data removed]",
      "text/plain": [
       "<Figure size 2000x500 with 4 Axes>"
      ]
     },
     "metadata": {},
     "output_type": "display_data"
    }
   ],
   "source": [
    "lb_longer[\"sumpref_1longer\"] = lb_longer[\"mean_1longer\"] * lb_longer[\"count_1longer\"]\n",
    "lb_longer[\"sumpref_2longer\"] = lb_longer[\"mean_2longer\"] * lb_longer[\"count_2longer\"]\n",
    "\n",
    "def get_weighted_win_rate(lb_longer, weight):\n",
    "    return (weight *lb_longer[\"sumpref_1longer\"] + (1-weight) * lb_longer[\"sumpref_2longer\"]) / ((weight * lb_longer[\"count_1longer\"] + (1-weight) * lb_longer[\"count_2longer\"])) * 100\n",
    "\n",
    "weights = np.linspace(0,1,100,endpoint=False)[1:]\n",
    "plot_metrics_vs_param(get_weighted_win_rate, weights, metric_name=\"weighted_win_rate\")"
   ]
  },
  {
   "cell_type": "code",
   "execution_count": 30,
   "id": "62fc73aa-fa22-40f5-9a75-f90fcaa8c2b8",
   "metadata": {},
   "outputs": [
    {
     "name": "stdout",
     "output_type": "stream",
     "text": [
      "# Report for **weighted_win_rate**\n",
      "\n",
      "## Gameability (lower is better)\n",
      "Verbosity gameability (relative std metric): 19.1%\n",
      "Conciseness gameability (relative std metric): 30.5%\n",
      "\n",
      "## Correlation with Arena (higher is better)\n",
      "Spearman Corr: 0.946\n",
      "Kendall Corr: 0.824\n",
      "\n",
      "## Correlation with length (closer to spearman=0.24, kendall=0.17 is better)\n",
      "Spearman Corr: 0.445\n",
      "Kendall Corr: 0.305\n",
      "\n",
      "## Top 10 models\n"
     ]
    },
    {
     "data": {
      "text/plain": [
       "gpt4_1106_preview_verbose                56.250094\n",
       "gpt4_1106_preview                             50.0\n",
       "Snorkel-Mistral-PairRM-DPO-best-of-16     29.68055\n",
       "pairrm-Yi-34B-Chat                       26.418985\n",
       "Snorkel-Mistral-PairRM-DPO               26.087726\n",
       "Yi-34B-Chat                              24.068617\n",
       "Qwen1.5-72B-Chat                         23.187668\n",
       "gpt4                                     21.833347\n",
       "gpt4_1106_preview_concise                21.741323\n",
       "gpt4_0314                                20.595724\n",
       "Name: weighted_win_rate, dtype: object"
      ]
     },
     "metadata": {},
     "output_type": "display_data"
    },
    {
     "name": "stdout",
     "output_type": "stream",
     "text": [
      "\n",
      "## Bottom 10 models\n"
     ]
    },
    {
     "data": {
      "text/plain": [
       "alpaca-7b_verbose       2.183581\n",
       "minichat-3b             2.138179\n",
       "phi-2                   2.104867\n",
       "chatglm2-6b             2.049623\n",
       "alpaca-7b               2.044369\n",
       "guanaco-7b              1.855243\n",
       "falcon-7b-instruct      1.734801\n",
       "oasst-sft-pythia-12b    1.634766\n",
       "baichuan-13b-chat        1.62491\n",
       "alpaca-7b_concise       1.548759\n",
       "Name: weighted_win_rate, dtype: object"
      ]
     },
     "metadata": {},
     "output_type": "display_data"
    }
   ],
   "source": [
    "weight=0.8 \n",
    "lb_longer[\"weighted_win_rate\"] =get_weighted_win_rate(lb_longer, weight)\n",
    "report(lb_longer, \"weighted_win_rate\", is_detailed=False)"
   ]
  },
  {
   "cell_type": "markdown",
   "id": "13cb4721-e005-4bfe-89fa-c275fbd2af1d",
   "metadata": {},
   "source": [
    "## Unormalized weighted win-rate\n",
    "\n",
    "- **What**: similar to the previous metric but you don't rescale the win rate to be between $[0,100]$\n",
    "- **Benefits**:\n",
    "    - much better in all metrics than raw win-rate\n",
    "- **Downside**:\n",
    "    - scale of win-rate is not $[0,100]$ and will not be given by the fraction of examples that are longer / shorter than the baseline.\n",
    "    - harder to understand\n",
    "    - still high correlation with length\n",
    " \n",
    "Note that here w=0.5 recovers the standard win-rate."
   ]
  },
  {
   "cell_type": "code",
   "execution_count": 31,
   "id": "f0f666e8-c387-4edd-af99-2e5e0f933300",
   "metadata": {},
   "outputs": [
    {
     "name": "stderr",
     "output_type": "stream",
     "text": [
      "/Users/yanndubois/opt/anaconda3/envs/alpaca_eval/lib/python3.11/site-packages/seaborn/_oldcore.py:1119: FutureWarning: use_inf_as_na option is deprecated and will be removed in a future version. Convert inf values to NaN before operating instead.\n",
      "  with pd.option_context('mode.use_inf_as_na', True):\n",
      "/Users/yanndubois/opt/anaconda3/envs/alpaca_eval/lib/python3.11/site-packages/seaborn/_oldcore.py:1119: FutureWarning: use_inf_as_na option is deprecated and will be removed in a future version. Convert inf values to NaN before operating instead.\n",
      "  with pd.option_context('mode.use_inf_as_na', True):\n",
      "/Users/yanndubois/opt/anaconda3/envs/alpaca_eval/lib/python3.11/site-packages/seaborn/_oldcore.py:1119: FutureWarning: use_inf_as_na option is deprecated and will be removed in a future version. Convert inf values to NaN before operating instead.\n",
      "  with pd.option_context('mode.use_inf_as_na', True):\n",
      "/Users/yanndubois/opt/anaconda3/envs/alpaca_eval/lib/python3.11/site-packages/seaborn/_oldcore.py:1119: FutureWarning: use_inf_as_na option is deprecated and will be removed in a future version. Convert inf values to NaN before operating instead.\n",
      "  with pd.option_context('mode.use_inf_as_na', True):\n",
      "/Users/yanndubois/opt/anaconda3/envs/alpaca_eval/lib/python3.11/site-packages/seaborn/_oldcore.py:1119: FutureWarning: use_inf_as_na option is deprecated and will be removed in a future version. Convert inf values to NaN before operating instead.\n",
      "  with pd.option_context('mode.use_inf_as_na', True):\n",
      "/Users/yanndubois/opt/anaconda3/envs/alpaca_eval/lib/python3.11/site-packages/seaborn/_oldcore.py:1119: FutureWarning: use_inf_as_na option is deprecated and will be removed in a future version. Convert inf values to NaN before operating instead.\n",
      "  with pd.option_context('mode.use_inf_as_na', True):\n",
      "/Users/yanndubois/opt/anaconda3/envs/alpaca_eval/lib/python3.11/site-packages/seaborn/_oldcore.py:1119: FutureWarning: use_inf_as_na option is deprecated and will be removed in a future version. Convert inf values to NaN before operating instead.\n",
      "  with pd.option_context('mode.use_inf_as_na', True):\n",
      "/Users/yanndubois/opt/anaconda3/envs/alpaca_eval/lib/python3.11/site-packages/seaborn/_oldcore.py:1119: FutureWarning: use_inf_as_na option is deprecated and will be removed in a future version. Convert inf values to NaN before operating instead.\n",
      "  with pd.option_context('mode.use_inf_as_na', True):\n"
     ]
    },
    {
     "data": {
      "image/png": "[encoded data removed]",
      "text/plain": [
       "<Figure size 2000x500 with 4 Axes>"
      ]
     },
     "metadata": {},
     "output_type": "display_data"
    }
   ],
   "source": [
    "\n",
    "def get_unormalized_weighted_win_rate(lb_longer, weight):\n",
    "    return (weight *lb_longer[\"sumpref_1longer\"] + (1-weight) * lb_longer[\"sumpref_2longer\"]) / (0.5 *  ( lb_longer[\"count_1longer\"] +  lb_longer[\"count_2longer\"])) * 100\n",
    "\n",
    "weights = np.linspace(0,1,100,endpoint=False)[1:]\n",
    "plot_metrics_vs_param(get_unormalized_weighted_win_rate, weights, metric_name=\"unormalized_weighted_win_rate\")"
   ]
  },
  {
   "cell_type": "markdown",
   "id": "a7f51fb8-6a27-46f8-bc03-062fbb965255",
   "metadata": {},
   "source": [
    "Sweet spot seems to be parameter=0.6-0.7. "
   ]
  },
  {
   "cell_type": "code",
   "execution_count": 32,
   "id": "8e19960c-b279-4b66-9f9c-edec37799fde",
   "metadata": {},
   "outputs": [
    {
     "name": "stdout",
     "output_type": "stream",
     "text": [
      "# Report for **unormalized_weighted_win_rate**\n",
      "\n",
      "## Gameability (lower is better)\n",
      "Verbosity gameability (relative std metric): 13.9%\n",
      "Conciseness gameability (relative std metric): 25.8%\n",
      "\n",
      "## Correlation with Arena (higher is better)\n",
      "Spearman Corr: 0.958\n",
      "Kendall Corr: 0.853\n",
      "\n",
      "## Correlation with length (closer to spearman=0.24, kendall=0.17 is better)\n",
      "Spearman Corr: 0.410\n",
      "Kendall Corr: 0.272\n",
      "\n",
      "## Top 10 models\n"
     ]
    },
    {
     "data": {
      "text/plain": [
       "gpt4_1106_preview                             50.0\n",
       "gpt4_1106_preview_verbose                49.585237\n",
       "Qwen1.5-72B-Chat                         29.701083\n",
       "Snorkel-Mistral-PairRM-DPO-best-of-16    28.474666\n",
       "gpt4_1106_preview_concise                28.350624\n",
       "gpt4                                     28.242867\n",
       "pairrm-Yi-34B-Chat                       27.426159\n",
       "gpt4_0314                                26.429635\n",
       "gpt4_0613_verbose                        26.093454\n",
       "Yi-34B-Chat                              25.900598\n",
       "Name: unormalized_weighted_win_rate, dtype: object"
      ]
     },
     "metadata": {},
     "output_type": "display_data"
    },
    {
     "name": "stdout",
     "output_type": "stream",
     "text": [
      "\n",
      "## Bottom 10 models\n"
     ]
    },
    {
     "data": {
      "text/plain": [
       "guanaco-13b             3.053912\n",
       "minichat-3b             3.022104\n",
       "alpaca-7b               2.866468\n",
       "chatglm2-6b             2.721326\n",
       "phi-2                   2.712172\n",
       "guanaco-7b              2.656111\n",
       "falcon-7b-instruct      2.366093\n",
       "oasst-sft-pythia-12b    2.102119\n",
       "alpaca-7b_concise       2.095599\n",
       "baichuan-13b-chat       2.045448\n",
       "Name: unormalized_weighted_win_rate, dtype: object"
      ]
     },
     "metadata": {},
     "output_type": "display_data"
    }
   ],
   "source": [
    "weight=0.65\n",
    "lb_longer[\"unormalized_weighted_win_rate\"] =get_unormalized_weighted_win_rate(lb_longer, weight)\n",
    "report(lb_longer, \"unormalized_weighted_win_rate\", is_detailed=False) "
   ]
  },
  {
   "cell_type": "markdown",
   "id": "c4bc7fc9-f3e8-4de6-bd1a-02ca4e44b447",
   "metadata": {},
   "source": [
    "We see that the correlation with arena is very strong but gameability and length correlation is still relatively high. Furthermore, the intuition is strange as it says that we should give more reward to the cases where the baseline is longer!"
   ]
  },
  {
   "cell_type": "markdown",
   "id": "2433c6d1-4d84-4ff2-90e9-8f2fa2297978",
   "metadata": {},
   "source": [
    "## Per-sample length corrected win-rate\n",
    "\n",
    "- **What**: Same as above but the normalization is done per output rather than on the overall metric. I.e. it's better when you win with a shorter output than the baseline one.\n",
    "- **Benefits**:\n",
    "    - simple\n",
    "    - control for length\n",
    "- **Downside**:\n",
    "    - different (harder) interpretation: the range is not between 0-100 anymore and depends on the length of outputs."
   ]
  },
  {
   "cell_type": "code",
   "execution_count": 33,
   "id": "a02a3aa9-4454-4da6-a02b-12452cde241d",
   "metadata": {},
   "outputs": [
    {
     "name": "stdout",
     "output_type": "stream",
     "text": [
      "# Report for **length_corrected_win_rate**\n",
      "\n",
      "## Gameability (lower is better)\n",
      "Verbosity gameability (relative std metric): 4.6%\n",
      "Conciseness gameability (relative std metric): 14.9%\n",
      "\n",
      "## Correlation with Arena (higher is better)\n",
      "Spearman Corr: 0.854\n",
      "Kendall Corr: 0.683\n",
      "\n",
      "## Correlation with length (closer to spearman=0.24, kendall=0.17 is better)\n",
      "Spearman Corr: 0.050\n",
      "Kendall Corr: 0.042\n",
      "\n",
      "## Top 10 models\n"
     ]
    },
    {
     "data": {
      "text/plain": [
       "gpt35_turbo_instruct         59.756845\n",
       "gemini-pro                   59.475346\n",
       "gpt4_1106_preview_verbose    51.902697\n",
       "claude-2.1_concise           50.346007\n",
       "gpt4_1106_preview            50.000000\n",
       "gpt4                         44.840184\n",
       "gpt4_1106_preview_concise    43.442884\n",
       "gpt4_0314                    42.490215\n",
       "airoboros-65b                35.595773\n",
       "Qwen1.5-72B-Chat             35.541890\n",
       "Name: length_corrected_win_rate, dtype: float64"
      ]
     },
     "metadata": {},
     "output_type": "display_data"
    },
    {
     "name": "stdout",
     "output_type": "stream",
     "text": [
      "\n",
      "## Bottom 10 models\n"
     ]
    },
    {
     "data": {
      "text/plain": [
       "recycled-wizardlm-7b-v1.0       6.013193\n",
       "llama-2-chat-7b-evol70k-neft    5.929734\n",
       "oasst-sft-pythia-12b            5.522854\n",
       "baize-v2-7b                     5.507437\n",
       "openbuddy-falcon-7b-v6          5.034488\n",
       "llama-2-7b-chat-hf              5.015983\n",
       "chatglm2-6b                     4.872784\n",
       "guanaco-7b                      4.572563\n",
       "falcon-7b-instruct              4.532023\n",
       "guanaco-13b                     4.243997\n",
       "Name: length_corrected_win_rate, dtype: float64"
      ]
     },
     "metadata": {},
     "output_type": "display_data"
    }
   ],
   "source": [
    "all_df_annotations[\"len_corr_pref\"] = all_df_annotations[\"preference\"]  * 100 * all_df_annotations[\"len_1\"] / all_df_annotations[\"len_2\"]\n",
    "lb[\"length_corrected_win_rate\"] = all_df_annotations.query(\"len_2 != 0\").groupby(\"model\")[\"len_corr_pref\"].mean()[lb.index]\n",
    "report(lb, \"length_corrected_win_rate\", is_detailed=False)"
   ]
  },
  {
   "cell_type": "markdown",
   "id": "2d1e4e9c-3c4c-4254-b17c-cd6550549bad",
   "metadata": {},
   "source": [
    "We see that gameability didn't change much but the correlation with Arena is much worse. Let's not do that. Note that the fact that this is not working well makes me pretty worried about the average length correction."
   ]
  },
  {
   "cell_type": "markdown",
   "id": "62b88d46-38ec-4305-a671-473eea53151d",
   "metadata": {},
   "source": [
    "We see that the values are actually slightly better but that doesn't seem to be worth the added complexity."
   ]
  }
 ],
 "metadata": {
  "kernelspec": {
   "display_name": "Python 3 (ipykernel)",
   "language": "python",
   "name": "python3"
  },
  "language_info": {
   "codemirror_mode": {
    "name": "ipython",
    "version": 3
   },
   "file_extension": ".py",
   "mimetype": "text/x-python",
   "name": "python",
   "nbconvert_exporter": "python",
   "pygments_lexer": "ipython3",
   "version": "3.11.3"
  }
 },
 "nbformat": 4,
 "nbformat_minor": 5
}
